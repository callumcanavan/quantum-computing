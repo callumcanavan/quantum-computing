{
 "cells": [
  {
   "cell_type": "markdown",
   "metadata": {},
   "source": [
    "# Deutsch's Algorithm\n",
    "Implementation of Deutsch's algorithm, a special case of the Deutsch–Jozsa algorithm for determining whether a function that takes 1-bit binary input is balanced or constant, given its oracle operator."
   ]
  },
  {
   "cell_type": "markdown",
   "metadata": {},
   "source": [
    "### Imports"
   ]
  },
  {
   "cell_type": "code",
   "execution_count": 1,
   "metadata": {},
   "outputs": [],
   "source": [
    "# building circuits\n",
    "from qiskit import QuantumCircuit, QuantumRegister, ClassicalRegister, execute\n",
    "\n",
    "# testing\n",
    "from qiskit import BasicAer, IBMQ\n",
    "from qiskit.providers.ibmq import least_busy\n",
    "from qiskit.tools.monitor import job_monitor\n",
    "\n",
    "# visualisation\n",
    "from qiskit.visualization import plot_histogram"
   ]
  },
  {
   "cell_type": "markdown",
   "metadata": {},
   "source": [
    "### Circuit building functions"
   ]
  },
  {
   "cell_type": "code",
   "execution_count": 2,
   "metadata": {},
   "outputs": [],
   "source": [
    "def create_oracle(f):\n",
    "    '''\n",
    "    Oracle circuit for single binary input function f\n",
    "    '''\n",
    "    n_bits = 1 # special case of Deutsch–Jozsa circuit\n",
    "    f0, f1 = f(0), f(1)\n",
    "    \n",
    "    oracle_qc = QuantumCircuit(n_bits+1, name='U_f')\n",
    "    if f0 != f1:\n",
    "        if f0 == 0:\n",
    "            oracle_qc.cx(0,1)\n",
    "        else:\n",
    "            oracle_qc.cx(1,0)\n",
    "    elif f0 == 1:\n",
    "        oracle_qc.x(1)\n",
    "    \n",
    "    return oracle_qc.to_instruction()"
   ]
  },
  {
   "cell_type": "code",
   "execution_count": 3,
   "metadata": {},
   "outputs": [],
   "source": [
    "def deutsch_circuit(f_oracle):\n",
    "    '''\n",
    "    Deutsch algorithm circuit for single binary\n",
    "    input function f, given its oracle f_oracle\n",
    "    '''\n",
    "    n_bits = 1 # special case of Deutsch–Jozsa circuit\n",
    "    \n",
    "    qr = QuantumRegister(n_bits+1)\n",
    "    cr = ClassicalRegister(n_bits)\n",
    "\n",
    "    qc = QuantumCircuit(qr, cr)\n",
    "    qc.x(n_bits)\n",
    "    qc.h(qr)\n",
    "    qc.append(f_oracle, qr)\n",
    "    qc.h(qr[:-1])\n",
    "    \n",
    "    qc.measure(qr[:-1], cr)\n",
    "\n",
    "    return qc"
   ]
  },
  {
   "cell_type": "markdown",
   "metadata": {},
   "source": [
    "### Test on an emulated quantum computer"
   ]
  },
  {
   "cell_type": "code",
   "execution_count": 4,
   "metadata": {},
   "outputs": [],
   "source": [
    "# functions\n",
    "fb = lambda x : x # balanced\n",
    "fc = lambda x : 0 # constant\n",
    "\n",
    "# oracles\n",
    "oracle_bal = create_oracle(fb)\n",
    "oracle_const = create_oracle(fc)\n",
    "\n",
    "# circuits\n",
    "qc_bal = deutsch_circuit(oracle_bal)\n",
    "qc_const = deutsch_circuit(oracle_const)"
   ]
  },
  {
   "cell_type": "code",
   "execution_count": 5,
   "metadata": {},
   "outputs": [
    {
     "data": {
      "image/png": "[encoded data removed]",
      "text/plain": [
       "<Figure size 490.028x204.68 with 1 Axes>"
      ]
     },
     "execution_count": 5,
     "metadata": {},
     "output_type": "execute_result"
    }
   ],
   "source": [
    "qc_bal.draw(output='mpl')"
   ]
  },
  {
   "cell_type": "code",
   "execution_count": 6,
   "metadata": {},
   "outputs": [],
   "source": [
    "emulator = BasicAer.get_backend('qasm_simulator')"
   ]
  },
  {
   "cell_type": "code",
   "execution_count": 7,
   "metadata": {},
   "outputs": [
    {
     "data": {
      "image/png": "[encoded data removed]",
      "text/plain": [
       "<Figure size 504x360 with 1 Axes>"
      ]
     },
     "execution_count": 7,
     "metadata": {},
     "output_type": "execute_result"
    }
   ],
   "source": [
    "# balanced function distribution\n",
    "counts_bal = execute(qc_bal, backend=emulator).result().get_counts()\n",
    "plot_histogram(counts_bal) # should get all 1"
   ]
  },
  {
   "cell_type": "code",
   "execution_count": 8,
   "metadata": {},
   "outputs": [
    {
     "data": {
      "image/png": "[encoded data removed]",
      "text/plain": [
       "<Figure size 504x360 with 1 Axes>"
      ]
     },
     "execution_count": 8,
     "metadata": {},
     "output_type": "execute_result"
    }
   ],
   "source": [
    "# constant function distribution\n",
    "counts_const = execute(qc_const, backend=emulator).result().get_counts()\n",
    "plot_histogram(counts_const) # should get all 0"
   ]
  },
  {
   "cell_type": "markdown",
   "metadata": {},
   "source": [
    "### Try on a real quantum computer"
   ]
  },
  {
   "cell_type": "code",
   "execution_count": 9,
   "metadata": {},
   "outputs": [],
   "source": [
    "IBMQ.load_account()\n",
    "provider = IBMQ.get_provider(hub='ibm-q')"
   ]
  },
  {
   "cell_type": "code",
   "execution_count": 11,
   "metadata": {},
   "outputs": [
    {
     "name": "stdout",
     "output_type": "stream",
     "text": [
      "Device:  ibmqx2\n"
     ]
    }
   ],
   "source": [
    "# find least busy suitable device\n",
    "real_device = least_busy(provider.backends(filters=lambda x: x.configuration().n_qubits >= 2 and\n",
    "                            not x.configuration().simulator and x.status().operational==True))\n",
    "\n",
    "print(\"Device: \", real_device)"
   ]
  },
  {
   "cell_type": "code",
   "execution_count": 12,
   "metadata": {},
   "outputs": [
    {
     "name": "stdout",
     "output_type": "stream",
     "text": [
      "Job Status: job has successfully run\n"
     ]
    }
   ],
   "source": [
    "# run balanced experiment on device\n",
    "job = execute(qc_bal, backend=real_device)\n",
    "job_monitor(job, interval = 2)"
   ]
  },
  {
   "cell_type": "code",
   "execution_count": 13,
   "metadata": {},
   "outputs": [],
   "source": [
    "counts_bal = job.result().get_counts()"
   ]
  },
  {
   "cell_type": "code",
   "execution_count": 14,
   "metadata": {},
   "outputs": [
    {
     "name": "stdout",
     "output_type": "stream",
     "text": [
      "Job Status: job has successfully run\n"
     ]
    }
   ],
   "source": [
    "# run constant experiment on device\n",
    "job = execute(qc_const, backend=real_device)\n",
    "job_monitor(job, interval = 2)"
   ]
  },
  {
   "cell_type": "code",
   "execution_count": 15,
   "metadata": {},
   "outputs": [],
   "source": [
    "counts_const = job.result().get_counts()"
   ]
  },
  {
   "cell_type": "code",
   "execution_count": 16,
   "metadata": {},
   "outputs": [
    {
     "data": {
      "image/png": "[encoded data removed]",
      "text/plain": [
       "<Figure size 504x360 with 1 Axes>"
      ]
     },
     "execution_count": 16,
     "metadata": {},
     "output_type": "execute_result"
    }
   ],
   "source": [
    "plot_histogram(counts_bal) # should get mostly 1"
   ]
  },
  {
   "cell_type": "code",
   "execution_count": 17,
   "metadata": {},
   "outputs": [
    {
     "data": {
      "image/png": "[encoded data removed]",
      "text/plain": [
       "<Figure size 504x360 with 1 Axes>"
      ]
     },
     "execution_count": 17,
     "metadata": {},
     "output_type": "execute_result"
    }
   ],
   "source": [
    "plot_histogram(counts_const) # should get mostly 0"
   ]
  }
 ],
 "metadata": {
  "kernelspec": {
   "display_name": "Python 3",
   "language": "python",
   "name": "python3"
  },
  "language_info": {
   "codemirror_mode": {
    "name": "ipython",
    "version": 3
   },
   "file_extension": ".py",
   "mimetype": "text/x-python",
   "name": "python",
   "nbconvert_exporter": "python",
   "pygments_lexer": "ipython3",
   "version": "3.8.1"
  }
 },
 "nbformat": 4,
 "nbformat_minor": 4
}
